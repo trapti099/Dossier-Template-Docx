{
  "nbformat": 4,
  "nbformat_minor": 0,
  "metadata": {
    "colab": {
      "provenance": [],
      "authorship_tag": "ABX9TyPHAn1f0TZ/UiIzLM7uVZHe",
      "include_colab_link": true
    },
    "kernelspec": {
      "name": "python3",
      "display_name": "Python 3"
    },
    "language_info": {
      "name": "python"
    }
  },
  "cells": [
    {
      "cell_type": "markdown",
      "metadata": {
        "id": "view-in-github",
        "colab_type": "text"
      },
      "source": [
        "<a href=\"https://colab.research.google.com/github/trapti099/Dossier-Template-Docx/blob/main/ezekia.ipynb\" target=\"_parent\"><img src=\"https://colab.research.google.com/assets/colab-badge.svg\" alt=\"Open In Colab\"/></a>"
      ]
    },
    {
      "cell_type": "code",
      "execution_count": null,
      "metadata": {
        "colab": {
          "base_uri": "https://localhost:8080/"
        },
        "id": "zSPMHXtqdkzI",
        "outputId": "9d843b1c-1c0f-4ab6-e9d6-9c88e64c8b8c"
      },
      "outputs": [
        {
          "output_type": "stream",
          "name": "stdout",
          "text": [
            "Mounted at /content/drive\n"
          ]
        }
      ],
      "source": [
        "from google.colab import drive\n",
        "\n",
        "# Mount Google Drive\n",
        "drive.mount('/content/drive')\n"
      ]
    },
    {
      "cell_type": "code",
      "source": [
        "!pip install python-docx\n"
      ],
      "metadata": {
        "colab": {
          "base_uri": "https://localhost:8080/"
        },
        "id": "QS8vC8aHeEEk",
        "outputId": "530db78c-d443-4c17-ea85-04475fa0f955"
      },
      "execution_count": null,
      "outputs": [
        {
          "output_type": "stream",
          "name": "stdout",
          "text": [
            "Collecting python-docx\n",
            "  Downloading python_docx-1.1.0-py3-none-any.whl (239 kB)\n",
            "\u001b[2K     \u001b[90m━━━━━━━━━━━━━━━━━━━━━━━━━━━━━━━━━━━━━━━━\u001b[0m \u001b[32m239.6/239.6 kB\u001b[0m \u001b[31m2.1 MB/s\u001b[0m eta \u001b[36m0:00:00\u001b[0m\n",
            "\u001b[?25hRequirement already satisfied: lxml>=3.1.0 in /usr/local/lib/python3.10/dist-packages (from python-docx) (4.9.4)\n",
            "Requirement already satisfied: typing-extensions in /usr/local/lib/python3.10/dist-packages (from python-docx) (4.11.0)\n",
            "Installing collected packages: python-docx\n",
            "Successfully installed python-docx-1.1.0\n"
          ]
        }
      ]
    },
    {
      "cell_type": "code",
      "source": [
        "from docx import Document\n",
        "from docx.shared import Inches, Pt, RGBColor\n",
        "from docx.enum.text import WD_ALIGN_PARAGRAPH, WD_PARAGRAPH_ALIGNMENT\n",
        "from docx.shared import Cm\n",
        "# Create a new Document\n",
        "doc = Document()\n",
        "\n",
        "# Add heading image\n",
        "heading_img_path = \"/content/drive/MyDrive/img/image10.png\"\n",
        "doc.add_picture(heading_img_path, width=Inches(2))\n",
        "\n",
        "# Add profile photo\n",
        "profile_photo_path = \"/content/drive/MyDrive/img/image4.jpg\"\n",
        "profile_picture = doc.add_picture(profile_photo_path, width=Inches(2))\n",
        "profile_picture.alignment = WD_ALIGN_PARAGRAPH.LEFT\n",
        "\n",
        "# Add text beside the profile picture\n",
        "profile_text_paragraph = doc.add_paragraph()\n",
        "run = profile_text_paragraph.add_run(\"Mahesh Kanchan\\n\")\n",
        "run.font.size = Pt(12)\n",
        "run.font.name = 'Calibri'\n",
        "run.font.color.rgb = RGBColor(128, 0, 128)\n",
        "run.font.bold = True\n",
        "\n",
        "# Add remaining text\n",
        "runs=profile_text_paragraph.add_run(\"Vice President Marketing,\\n\"\n",
        "                               \"Carlsberg India\\n\\n\"\n",
        "                               \"Mahesh possesses over two decades of experience across the FMCG industry. Currently, he serves as the Vice President (Head) of Marketing at Carlsberg India, where he holds the complete Marketing, P&L and On-Trade Sales responsibility for a Gross sales of INR 3735 Crore and marketing investment of 150 Crore. He has been instrumental in making Carlsberg India the fastest growing alco-bev company in India basis a focused power brands (Tuborg & Carlsberg) strategy. Tuborg became the No. 2 brand in 2016, Carlsberg moved from No. 11 (2014) to No. 6 rank in 2016, and No. 5 in 2017.\")\n",
        "runs.alignment = WD_ALIGN_PARAGRAPH.LEFT\n",
        "runs.font.name = 'Calibri'\n",
        "\n",
        "# Add a new page\n",
        "doc.add_page_break()\n",
        "\n",
        "# Add profile photo for the second page\n",
        "profile_photo_path = \"/content/drive/MyDrive/img/image12.png\"\n",
        "profile_picture = doc.add_picture(profile_photo_path, width=Inches(2))\n",
        "profile_picture.alignment = WD_ALIGN_PARAGRAPH.LEFT\n",
        "\n",
        "# Add Personal Data\n",
        "personal_data = doc.add_paragraph()\n",
        "run=personal_data.add_run(\"Personal Data:\\n\")\n",
        "run.font.color.rgb = RGBColor(128, 0, 128)\n",
        "run.font.bold = True\n",
        "run.font.name = 'Calibri'\n",
        "run.font.size = Pt(12)\n",
        "personal_data.add_run(\"\\nDate Of Birth\").font.name = 'Calibri'\n",
        "personal_data.add_run(\"           :           \").font.color.rgb = RGBColor(255, 0, 0)\n",
        "personal_data.add_run(\"20/06/2002\\n\").font.name = 'Calibri'\n",
        "personal_data.add_run(\"Nationality\")\n",
        "personal_data.add_run(\"              :           \").font.color.rgb = RGBColor(255, 0, 0)\n",
        "personal_data.add_run(\"India\\n\").font.name = 'Calibri'\n",
        "personal_data.add_run(\"Location\").font.name = 'Calibri'\n",
        "personal_data.add_run(\"                  :         \").font.color.rgb = RGBColor(255, 0, 0)\n",
        "personal_data.add_run(\"Delhi NCR\\n\").font.name = 'Calibri'\n",
        "personal_data.add_run(\"Languages\").font.name = 'Calibri'\n",
        "personal_data.add_run(\"              :          \").font.color.rgb = RGBColor(255, 0, 0)\n",
        "personal_data.add_run(\"English and Hindi\\n\\n\").font.name = 'Calibri'\n",
        "\n",
        "# Add Educational Data\n",
        "educational_data_paragraph = doc.add_paragraph()\n",
        "run1=educational_data_paragraph.add_run(\"Educational Data:\\n\")\n",
        "run1.font.color.rgb = RGBColor(128, 0, 128)\n",
        "run1.font.bold = True\n",
        "run1.font.name = 'Calibri'\n",
        "run1.font.size = Pt(12)\n",
        "educational_data_paragraph.add_run(\"\\n1997\").font.name = 'Calibri'\n",
        "educational_data_paragraph.add_run(\"                   :               \").font.color.rgb = RGBColor(255, 0, 0)\n",
        "run2=educational_data_paragraph.add_run(\"Jamnalal Bajaj Institute of Management Studies, Mumbai\\n\")\n",
        "run2.font.color.rgb = RGBColor(128, 0, 128)\n",
        "run2.font.name = 'Calibri'\n",
        "educational_data_paragraph.add_run(\"                                            Masters in Management Studies (Marketing)\\n\").font.name = 'Calibri'\n",
        "educational_data_paragraph.add_run(\"1992\").font.name = 'Calibri'\n",
        "educational_data_paragraph.add_run(\"                   :               \").font.color.rgb = RGBColor(255, 0, 0)\n",
        "run4=educational_data_paragraph.add_run(\"Narsee Monjee College of Commerce, Mumbai\\n\")\n",
        "run4.font.color.rgb = RGBColor(128, 0, 128)\n",
        "run4.font.name = 'Calibri'\n",
        "educational_data_paragraph.add_run(\"                                            Bachelor of Commerce (Financial Accounting)\").font.name = 'Calibri'\n",
        "\n",
        "# Add image\n",
        "company_profile_img_path = \"/content/drive/MyDrive/img/image0.png\"\n",
        "section = doc.sections[0]\n",
        "doc.add_picture(company_profile_img_path, width=Inches(7))\n",
        "\n",
        "# Add \"Company Profile:\" text\n",
        "company_profile_paragraph = doc.add_paragraph()\n",
        "run = company_profile_paragraph.add_run(\"Company Profile:\")\n",
        "run.font.size = Pt(11)\n",
        "run.font.name = 'Calibri'\n",
        "run.font.italic = True\n",
        "run.font.color.rgb = RGBColor(128, 0, 128)\n",
        "run.font.bold = True\n",
        "run1 = company_profile_paragraph.add_run(\"\\tXYZ Solutions Inc.,  Information Technology Services, Gurgaon, India\")\n",
        "run1.font.size = Pt(10)\n",
        "run1.font.name = 'Calibri'\n",
        "run1.font.italic = True\n",
        "\n",
        "key_resp_para = doc.add_heading('Key Responsibilities:', level=1)\n",
        "key_resp_para.runs[0].font.size = Pt(12)\n",
        "key_resp_para.runs[0].font.name = 'Calibri'\n",
        "key_resp_para.runs[0].font.italic = True\n",
        "key_resp_para.runs[0].font.color.rgb = RGBColor(128, 0, 128)\n",
        "key_resp_para.runs[0].font.bold = True\n",
        "\n",
        "# Add bullet points for Key Responsibilities\n",
        "key_responsibilities = [\n",
        "    \"Responsibility 1\",\n",
        "    \"Responsibility 2\"\n",
        "]\n",
        "\n",
        "for responsibility in key_responsibilities:\n",
        "    doc.add_paragraph(responsibility, style='ListBullet')\n",
        "\n",
        "key_ach_para = doc.add_heading('Key Achievements:', level=1)\n",
        "key_ach_para.runs[0].font.size = Pt(12)\n",
        "key_ach_para.runs[0].font.name = 'Calibri'\n",
        "key_ach_para.runs[0].font.italic = True\n",
        "key_ach_para.runs[0].font.color.rgb = RGBColor(128, 0, 128)\n",
        "key_ach_para.runs[0].font.bold = True\n",
        "key_achievements = [\n",
        "    (\"Achievement 1\", [\"Sub-point 1.1\", \"Sub-point 1.2\"]),\n",
        "    (\"Achievement 2\")\n",
        "]\n",
        "for achievement in key_achievements:\n",
        "    if isinstance(achievement, tuple):\n",
        "        # If achievement is a tuple, it has sub-points\n",
        "        doc.add_paragraph(achievement[0], style='ListBullet')\n",
        "        for sub_point in achievement[1]:\n",
        "            doc.add_paragraph(sub_point, style='ListBullet2')\n",
        "    else:\n",
        "        # If achievement is just a string, add it directly as a bullet point\n",
        "        doc.add_paragraph(achievement, style='ListBullet')\n",
        "\n",
        "# Add image\n",
        "company_profile_img_path = \"/content/drive/MyDrive/img/image1.png\"\n",
        "section = doc.sections[0]\n",
        "doc.add_picture(company_profile_img_path, width=Inches(7))\n",
        "\n",
        "doc.add_page_break()\n",
        "\n",
        "background_image_path = \"/content/drive/MyDrive/img/image8.png\"\n",
        "section = doc.sections[-1]\n",
        "section.left_margin = Inches(1)\n",
        "section.right_margin = Inches(1)\n",
        "section.top_margin = Inches(1)\n",
        "section.bottom_margin = Inches(0)\n",
        "section.header_distance = Inches(0)\n",
        "section.footer_distance = Inches(0)\n",
        "doc.add_picture(background_image_path, width=Inches(7))\n",
        "\n",
        "\n",
        "# Add footer image\n",
        "footer_img_path = \"/content/drive/MyDrive/img/image19.jpg\"\n",
        "section = doc.sections[0]\n",
        "footer = section.footer\n",
        "footer_paragraph = footer.paragraphs[0]\n",
        "footer_paragraph.alignment = WD_ALIGN_PARAGRAPH.CENTER\n",
        "run = footer_paragraph.add_run()\n",
        "run.add_picture(footer_img_path, width=Inches(7))\n",
        "\n",
        "# Save the document\n",
        "doc.save(\"document_with_images.docx\")\n"
      ],
      "metadata": {
        "id": "trIDSgvNdl2q"
      },
      "execution_count": 11,
      "outputs": []
    },
    {
      "cell_type": "code",
      "source": [],
      "metadata": {
        "id": "Cx3MoHoUd80F"
      },
      "execution_count": null,
      "outputs": []
    }
  ]
}